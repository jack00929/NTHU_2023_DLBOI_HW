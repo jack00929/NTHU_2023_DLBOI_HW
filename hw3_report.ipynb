{
  "cells": [
    {
      "cell_type": "markdown",
      "metadata": {
        "id": "view-in-github",
        "colab_type": "text"
      },
      "source": [
        "<a href=\"https://colab.research.google.com/github/jack00929/NTHU_2023_DLBOI_HW/blob/main/hw3_report.ipynb\" target=\"_parent\"><img src=\"https://colab.research.google.com/assets/colab-badge.svg\" alt=\"Open In Colab\"/></a>"
      ]
    },
    {
      "cell_type": "markdown",
      "metadata": {
        "id": "Li0bVCTuxc6n"
      },
      "source": [
        "<div align=\"center\">\n",
        "\n",
        "# National Tsing Hua University\n",
        "\n",
        "### Fall 2023\n",
        "\n",
        "#### 11210IPT 553000\n",
        "\n",
        "#### Deep Learning in Biomedical Optical Imaging\n",
        "\n",
        "## Lab 4: Build a Convolution Neural Network\n",
        "\n",
        "</div>\n"
      ]
    },
    {
      "cell_type": "code",
      "execution_count": 3,
      "metadata": {
        "id": "mGJcRwdzM7pS",
        "colab": {
          "base_uri": "https://localhost:8080/"
        },
        "outputId": "cbd35516-0693-47f9-ad88-33c762976f48"
      },
      "outputs": [
        {
          "output_type": "stream",
          "name": "stdout",
          "text": [
            "--2023-11-01 16:47:18--  https://raw.githubusercontent.com/TacoXDD/homeworks/master/dataset/train/normal.npy\n",
            "Resolving raw.githubusercontent.com (raw.githubusercontent.com)... 185.199.108.133, 185.199.109.133, 185.199.110.133, ...\n",
            "Connecting to raw.githubusercontent.com (raw.githubusercontent.com)|185.199.108.133|:443... connected.\n",
            "HTTP request sent, awaiting response... 200 OK\n",
            "Length: 65536128 (62M) [application/octet-stream]\n",
            "Saving to: ‘normal.npy’\n",
            "\n",
            "normal.npy          100%[===================>]  62.50M  --.-KB/s    in 0.1s    \n",
            "\n",
            "2023-11-01 16:47:22 (448 MB/s) - ‘normal.npy’ saved [65536128/65536128]\n",
            "\n",
            "--2023-11-01 16:47:22--  https://raw.githubusercontent.com/TacoXDD/homeworks/master/dataset/train/pneumonia.npy\n",
            "Resolving raw.githubusercontent.com (raw.githubusercontent.com)... 185.199.111.133, 185.199.110.133, 185.199.108.133, ...\n",
            "Connecting to raw.githubusercontent.com (raw.githubusercontent.com)|185.199.111.133|:443... connected.\n",
            "HTTP request sent, awaiting response... 200 OK\n",
            "Length: 65536128 (62M) [application/octet-stream]\n",
            "Saving to: ‘pneumonia.npy’\n",
            "\n",
            "pneumonia.npy       100%[===================>]  62.50M  --.-KB/s    in 0.1s    \n",
            "\n",
            "2023-11-01 16:47:27 (448 MB/s) - ‘pneumonia.npy’ saved [65536128/65536128]\n",
            "\n"
          ]
        }
      ],
      "source": [
        "# Download dataset\n",
        "!wget https://raw.githubusercontent.com/TacoXDD/homeworks/master/dataset/train/normal.npy\n",
        "!wget https://raw.githubusercontent.com/TacoXDD/homeworks/master/dataset/train/pneumonia.npy"
      ]
    },
    {
      "cell_type": "markdown",
      "metadata": {
        "id": "w-1PsC--M7pT"
      },
      "source": [
        "## A. Data Loading and Preprocessing\n",
        "\n",
        "In Convolutional Neural Networks (CNNs), the convolution operation expects the input to have a specific shape, typically denoted as `[batch_size, channels, height, width]`. The \"channels\" dimension refers to the number of input channels (or depth) of the input data.\n",
        "\n",
        "For standard RGB images, this channels value is 3 (for red, green, and blue). For grayscale images, there's only one channel. For more specialized data, there could be more channels. For example, medical imaging modalities like MRI or CT can sometimes have multiple channels representing different types of scans or different views of the same scan.\n",
        "\n",
        "When working with data that doesn't naturally have a channels dimension (e.g., plain grayscale image arrays that are just `[height, width]`), you need to explicitly add a channels dimension to match the expected input format of the CNN. This is done using `.unsqueeze(1)` which adds an additional dimension at the 1st position (0-indexed), converting a shape like `[batch_size, height, width]` to `[batch_size, 1, height, width]`. The \"1\" here indicates a single channel.\n"
      ]
    },
    {
      "cell_type": "code",
      "execution_count": 4,
      "metadata": {
        "id": "oScQ0GG6xc6r",
        "colab": {
          "base_uri": "https://localhost:8080/"
        },
        "outputId": "b374b395-c221-482a-acb7-e6b9d609965c"
      },
      "outputs": [
        {
          "output_type": "stream",
          "name": "stdout",
          "text": [
            "Shape of abnormal_scans: (1000, 256, 256)\n",
            "Shape of normal_scans: (1000, 256, 256)\n",
            "Number of samples in train and validation are 1600 and 400.\n",
            "X_train: max value is 255.0, min value is 0.0, data type is torch.float32.\n"
          ]
        }
      ],
      "source": [
        "import torch\n",
        "from torch.utils.data import DataLoader, TensorDataset, random_split\n",
        "\n",
        "import numpy as np\n",
        "\n",
        "# Load Dataset\n",
        "abnormal_scans = np.load('pneumonia.npy')\n",
        "normal_scans = np.load('normal.npy')\n",
        "\n",
        "print(f'Shape of abnormal_scans: {abnormal_scans.shape}')\n",
        "print(f'Shape of normal_scans: {normal_scans.shape}')\n",
        "\n",
        "# For the data having presence of pneumonia assign 1, for the normal ones assign 0.\n",
        "\n",
        "abnormal_labels = np.ones((abnormal_scans.shape[0],))\n",
        "normal_labels = np.zeros((normal_scans.shape[0],))\n",
        "\n",
        "split_point = 800\n",
        "\n",
        "x_train = np.concatenate((abnormal_scans[:split_point], normal_scans[:split_point]), axis=0)\n",
        "y_train = np.concatenate((abnormal_labels[:split_point], normal_labels[:split_point]), axis=0)\n",
        "x_val = np.concatenate((abnormal_scans[split_point:], normal_scans[split_point:]), axis=0)\n",
        "y_val = np.concatenate((abnormal_labels[split_point:], normal_labels[split_point:]), axis=0)\n",
        "\n",
        "# Convert to PyTorch tensors\n",
        "x_train = torch.from_numpy(x_train).float().unsqueeze(1)\n",
        "y_train = torch.from_numpy(y_train).long()\n",
        "x_val = torch.from_numpy(x_val).float().unsqueeze(1)\n",
        "y_val = torch.from_numpy(y_val).long()\n",
        "\n",
        "# Create datasets\n",
        "train_dataset = TensorDataset(x_train, y_train)\n",
        "val_dataset = TensorDataset(x_val, y_val)\n",
        "\n",
        "# Create dataloaders\n",
        "train_loader = DataLoader(train_dataset, batch_size=32, shuffle=True)\n",
        "val_loader = DataLoader(val_dataset, batch_size=32, shuffle=False)\n",
        "\n",
        "print(f'Number of samples in train and validation are {len(train_loader.dataset)} and {len(val_loader.dataset)}.')\n",
        "print(f'X_train: max value is {x_train.max().item()}, min value is {x_train.min().item()}, data type is {x_train.dtype}.')"
      ]
    },
    {
      "cell_type": "markdown",
      "metadata": {
        "id": "oaLGtT28xc6s"
      },
      "source": [
        "## B. Defining Neural Networks\n",
        "\n",
        "### 1. Use the **Class**\n",
        "\n",
        "In PyTorch, we define our custom neural network architectures by subclassing the `nn.Module` class. This gives our neural network all the functionality it needs to work with PyTorch's other utilities and keeps our implementation organized.\n",
        "\n",
        "- Neural networks are defined by subclassing `nn.Module`.\n",
        "- The layers of the neural network are initialized in the `__init__` method.\n",
        "- The forward pass operations on input data are defined in the `forward` method.\n",
        "\n",
        "It's worth noting that while we only define the forward pass, PyTorch will automatically derive the backward pass for us, which is used during training to update the model's weights.\""
      ]
    },
    {
      "cell_type": "code",
      "execution_count": 5,
      "metadata": {
        "id": "0QppIthMuMeJ",
        "colab": {
          "base_uri": "https://localhost:8080/"
        },
        "outputId": "4c83e165-9193-41b3-bd65-a81e38527af2"
      },
      "outputs": [
        {
          "output_type": "stream",
          "name": "stdout",
          "text": [
            "LinearModel(\n",
            "  (flatten): Flatten(start_dim=1, end_dim=-1)\n",
            "  (fc1): Linear(in_features=65536, out_features=32, bias=True)\n",
            "  (fc2): Linear(in_features=32, out_features=32, bias=True)\n",
            "  (fc3): Linear(in_features=32, out_features=32, bias=True)\n",
            "  (fc4): Linear(in_features=32, out_features=1, bias=True)\n",
            ")\n"
          ]
        }
      ],
      "source": [
        "import torch.nn as nn\n",
        "import torch.nn.functional as F\n",
        "\n",
        "# model = nn.Sequential(\n",
        "#     nn.Flatten(),\n",
        "#     nn.Linear(256*256*1, 32), # 1st FC\n",
        "#     nn.ReLU(),\n",
        "#     nn.Linear(32, 32),        # 2nd FC\n",
        "#     nn.ReLU(),\n",
        "#     nn.Linear(32, 32),        # 3rd FC\n",
        "#     nn.ReLU(),\n",
        "#     nn.Linear(32, 1)          # 4th FC\n",
        "# ).cuda()\n",
        "\n",
        "class LinearModel(nn.Module):\n",
        "    def __init__(self):\n",
        "        super().__init__()\n",
        "        self.flatten = nn.Flatten()\n",
        "        self.fc1 = nn.Linear(256*256*1, 32)\n",
        "        self.fc2 = nn.Linear(32, 32)\n",
        "        self.fc3 = nn.Linear(32, 32)\n",
        "        self.fc4 = nn.Linear(32, 1)\n",
        "\n",
        "    def forward(self, x):\n",
        "        x = self.flatten(x)\n",
        "        x = F.relu(self.fc1(x))\n",
        "        x = F.relu(self.fc2(x))\n",
        "        x = F.relu(self.fc3(x))\n",
        "        return self.fc4(x)\n",
        "model = LinearModel()\n",
        "print(model)"
      ]
    },
    {
      "cell_type": "markdown",
      "metadata": {
        "id": "iA0pf4OruMeJ"
      },
      "source": [
        "### 2. ann2cnn\n",
        "\n",
        "To transition a model from an ANN to a CNN using `nn.Conv2d` layers, we make the following changes:\n",
        "\n",
        "- Replace `nn.Linear` layers with `nn.Conv2d` layers for the initial layers.\n",
        "- Add pooling layers after convolutional layers for spatial dimension reduction.\n",
        "- Introduce a flattening step before transitioning to fully connected layers.\n",
        "- Adjust the `forward` method to handle the convolutional and pooling operations and reshaping."
      ]
    },
    {
      "cell_type": "code",
      "execution_count": 6,
      "metadata": {
        "id": "dxT1iHqFuMeJ"
      },
      "outputs": [],
      "source": [
        "import torch.nn as nn\n",
        "import torch.nn.functional as F\n",
        "\n",
        "class ConvModel(nn.Module):\n",
        "    def __init__(self):\n",
        "        super().__init__()\n",
        "\n",
        "        # # 1 channel, and using 3x3 kernels for simplicity, 256*256\n",
        "        # self.conv1 = nn.Conv2d(1, 32, kernel_size=3, stride=1, padding='same')\n",
        "        # self.pool1 = nn.MaxPool2d(kernel_size=2, stride=2) # 128*128\n",
        "\n",
        "        # self.conv2 = nn.Conv2d(32, 32, kernel_size=3, stride=1, padding='same') # 128*128\n",
        "        # self.pool2 = nn.MaxPool2d(kernel_size=2, stride=2) # 64*64\n",
        "\n",
        "        # self.conv3 = nn.Conv2d(32, 32, kernel_size=3, stride=1, padding='same') # 64*64\n",
        "        # self.pool3 = nn.MaxPool2d(kernel_size=2, stride=2) # 32*32\n",
        "\n",
        "        # # Adjust flattened dimensions based on the output size of your last pooling layer\n",
        "        # flattened_dim = 32 * 32 * 32\n",
        "\n",
        "        # self.fc1 = nn.Linear(flattened_dim, 32)\n",
        "        # self.fc2 = nn.Linear(32, 1)\n",
        "                # 1 channel, and using 3x3 kernels for simplicity, 256*256\n",
        "        self.conv1 = nn.Conv2d(1, 32, kernel_size=5, stride=1, padding='same')\n",
        "\n",
        "        self.pool1 = nn.MaxPool2d(kernel_size=6, stride=16) # 128*128\n",
        "\n",
        "        #self.conv2 = nn.Conv2d(32, 32, kernel_size=3, stride=1, padding='same') # 128*128\n",
        "        #self.pool2 = nn.MaxPool2d(kernel_size=4, stride=4) # 64*64\n",
        "\n",
        "        #self.conv3 = nn.Conv2d(32, 32, kernel_size=3, stride=1, padding='same') # 64*64\n",
        "        #self.pool3 = nn.MaxPool2d(kernel_size=2, stride=2) # 32*32\n",
        "\n",
        "\n",
        "        # Adjust flattened dimensions based on the output size of your last pooling layer\n",
        "        flattened_dim = 16 * 16 * 32\n",
        "\n",
        "        self.fc1 = nn.Linear(flattened_dim, 32)\n",
        "        self.fc2 = nn.Linear(32, 1)\n",
        "\n",
        "    def forward(self, x):\n",
        "        BN=nn.BatchNorm1d(32)\n",
        "        x = F.relu(self.conv1(x))\n",
        "        x = self.pool1(x)\n",
        "        #x = F.relu(self.conv2(x))\n",
        "        #x = self.pool2(x)\n",
        "\n",
        "        #x = F.relu(self.conv3(x))\n",
        "        #x = self.pool3(x)\n",
        "\n",
        "        # Flatten the output for the fully connected layers\n",
        "        x = x.reshape(x.size(0), -1)  # x.size(0) is the batch size\n",
        "\n",
        "        x = F.relu(self.fc1(x))\n",
        "        return self.fc2(x)"
      ]
    },
    {
      "cell_type": "code",
      "execution_count": 14,
      "metadata": {
        "id": "j0XEbU5duMeK"
      },
      "outputs": [],
      "source": [
        "class ConvGAP(nn.Module):\n",
        "    def __init__(self):\n",
        "        super().__init__()\n",
        "\n",
        "        self.net = nn.Sequential(\n",
        "            nn.Conv2d(1, 32, kernel_size=3, stride=1, padding='same') ,\n",
        "            nn.ReLU(),\n",
        "            nn.MaxPool2d(kernel_size=2, stride=2), # 128*128\n",
        "            nn.Conv2d(32, 32, kernel_size=3, stride=1, padding='same'), # 128*128\n",
        "            nn.ReLU(),\n",
        "            nn.MaxPool2d(kernel_size=2, stride=2), # 64*64\n",
        "            nn.Conv2d(32, 32, kernel_size=3, stride=1, padding='same'), # 64*64\n",
        "            nn.ReLU(),\n",
        "            nn.MaxPool2d(kernel_size=2, stride=2), # 32*32\n",
        "            nn.Conv2d(32, 32, kernel_size=3, stride=1, padding='same'), # 64*64\n",
        "            nn.ReLU(),\n",
        "            nn.MaxPool2d(kernel_size=1, stride=1),\n",
        "            nn.AdaptiveAvgPool2d(1),\n",
        "            nn.Flatten(),\n",
        "            nn.Linear(32, 1)\n",
        "        )\n",
        "\n",
        "    def forward(self, x):\n",
        "\n",
        "        x = self.net(x)\n",
        "        return x"
      ]
    },
    {
      "cell_type": "markdown",
      "metadata": {
        "id": "nvLTU-IfZLqn"
      },
      "source": [
        "## C. Training the Neural Network\n",
        "\n",
        "`model = model.cuda()` moves the model's parameters and buffers to the GPU memory."
      ]
    },
    {
      "cell_type": "code",
      "execution_count": 15,
      "metadata": {
        "id": "45ol4lpVxc6t",
        "colab": {
          "base_uri": "https://localhost:8080/",
          "height": 955,
          "referenced_widgets": [
            "f505f409cca740ed88542d6378429641",
            "d9e702b16e1948688431dbc144055506",
            "0ddb3a2e9856499e998198d7bc283afd",
            "7465c1d432ef4d58baae228df50739b3",
            "2bc62f9594204a178c7504e3eac8ee9b",
            "ae18faa80d0f4bfda6df4c7889902e97",
            "8243ba25713f49ccbe722b167b01dce7",
            "cc6eba53047b4ffd9190826915a18d42",
            "17f2c720cfab440398687b9c10cd8fea",
            "ca225ecf21fd4fd28a2ecc0a266c7f17",
            "a63f9da908224aaa9368e2b14034bf3d"
          ]
        },
        "outputId": "e12b9fb2-e5b8-406b-e79c-fefe9c2c722e"
      },
      "outputs": [
        {
          "output_type": "stream",
          "name": "stdout",
          "text": [
            "ConvGAP(\n",
            "  (net): Sequential(\n",
            "    (0): Conv2d(1, 32, kernel_size=(3, 3), stride=(1, 1), padding=same)\n",
            "    (1): ReLU()\n",
            "    (2): MaxPool2d(kernel_size=2, stride=2, padding=0, dilation=1, ceil_mode=False)\n",
            "    (3): Conv2d(32, 32, kernel_size=(3, 3), stride=(1, 1), padding=same)\n",
            "    (4): ReLU()\n",
            "    (5): MaxPool2d(kernel_size=2, stride=2, padding=0, dilation=1, ceil_mode=False)\n",
            "    (6): Conv2d(32, 32, kernel_size=(3, 3), stride=(1, 1), padding=same)\n",
            "    (7): ReLU()\n",
            "    (8): MaxPool2d(kernel_size=2, stride=2, padding=0, dilation=1, ceil_mode=False)\n",
            "    (9): Conv2d(32, 32, kernel_size=(3, 3), stride=(1, 1), padding=same)\n",
            "    (10): ReLU()\n",
            "    (11): MaxPool2d(kernel_size=1, stride=1, padding=0, dilation=1, ceil_mode=False)\n",
            "    (12): AdaptiveAvgPool2d(output_size=1)\n",
            "    (13): Flatten(start_dim=1, end_dim=-1)\n",
            "    (14): Linear(in_features=32, out_features=1, bias=True)\n",
            "  )\n",
            ")\n"
          ]
        },
        {
          "output_type": "display_data",
          "data": {
            "text/plain": [
              "  0%|          | 0/30 [00:00<?, ?it/s]"
            ],
            "application/vnd.jupyter.widget-view+json": {
              "version_major": 2,
              "version_minor": 0,
              "model_id": "f505f409cca740ed88542d6378429641"
            }
          },
          "metadata": {}
        },
        {
          "output_type": "stream",
          "name": "stdout",
          "text": [
            "Epoch 1/30, Train loss: 0.6942, Train acc: 50.00%, Val loss: 0.6925, Val acc: 50.00%, Best Val loss: 0.6925 Best Val acc: 50.00%\n",
            "Epoch 2/30, Train loss: 0.6922, Train acc: 50.00%, Val loss: 0.6844, Val acc: 50.00%, Best Val loss: 0.6844 Best Val acc: 50.00%\n",
            "Epoch 3/30, Train loss: 0.6755, Train acc: 60.31%, Val loss: 0.6269, Val acc: 75.00%, Best Val loss: 0.6269 Best Val acc: 75.00%\n",
            "Epoch 4/30, Train loss: 0.5410, Train acc: 76.25%, Val loss: 0.4181, Val acc: 85.75%, Best Val loss: 0.4181 Best Val acc: 85.75%\n",
            "Epoch 5/30, Train loss: 0.4207, Train acc: 82.62%, Val loss: 0.3793, Val acc: 82.75%, Best Val loss: 0.3793 Best Val acc: 85.75%\n",
            "Epoch 6/30, Train loss: 0.4095, Train acc: 82.69%, Val loss: 0.3830, Val acc: 85.75%, Best Val loss: 0.3793 Best Val acc: 85.75%\n",
            "Epoch 7/30, Train loss: 0.3806, Train acc: 84.88%, Val loss: 0.3142, Val acc: 88.50%, Best Val loss: 0.3142 Best Val acc: 88.50%\n",
            "Epoch 8/30, Train loss: 0.3486, Train acc: 85.69%, Val loss: 0.3031, Val acc: 88.25%, Best Val loss: 0.3031 Best Val acc: 88.50%\n",
            "Epoch 9/30, Train loss: 0.3730, Train acc: 84.38%, Val loss: 0.4429, Val acc: 79.50%, Best Val loss: 0.3031 Best Val acc: 88.50%\n",
            "Epoch 10/30, Train loss: 0.3394, Train acc: 86.56%, Val loss: 0.4196, Val acc: 81.50%, Best Val loss: 0.3031 Best Val acc: 88.50%\n",
            "Epoch 11/30, Train loss: 0.3105, Train acc: 88.19%, Val loss: 0.2839, Val acc: 89.50%, Best Val loss: 0.2839 Best Val acc: 89.50%\n",
            "Epoch 12/30, Train loss: 0.2890, Train acc: 90.12%, Val loss: 0.2744, Val acc: 90.00%, Best Val loss: 0.2744 Best Val acc: 90.00%\n",
            "Epoch 13/30, Train loss: 0.2828, Train acc: 90.12%, Val loss: 0.2838, Val acc: 90.50%, Best Val loss: 0.2744 Best Val acc: 90.50%\n",
            "Epoch 14/30, Train loss: 0.2768, Train acc: 90.56%, Val loss: 0.2803, Val acc: 90.50%, Best Val loss: 0.2744 Best Val acc: 90.50%\n",
            "Epoch 15/30, Train loss: 0.2703, Train acc: 90.19%, Val loss: 0.2653, Val acc: 91.25%, Best Val loss: 0.2653 Best Val acc: 91.25%\n",
            "Epoch 16/30, Train loss: 0.2676, Train acc: 90.75%, Val loss: 0.2695, Val acc: 90.75%, Best Val loss: 0.2653 Best Val acc: 91.25%\n",
            "Epoch 17/30, Train loss: 0.2645, Train acc: 90.25%, Val loss: 0.2591, Val acc: 91.50%, Best Val loss: 0.2591 Best Val acc: 91.50%\n",
            "Epoch 18/30, Train loss: 0.2613, Train acc: 90.75%, Val loss: 0.2637, Val acc: 91.00%, Best Val loss: 0.2591 Best Val acc: 91.50%\n",
            "Epoch 19/30, Train loss: 0.2585, Train acc: 90.94%, Val loss: 0.2763, Val acc: 90.75%, Best Val loss: 0.2591 Best Val acc: 91.50%\n",
            "Epoch 20/30, Train loss: 0.2583, Train acc: 91.31%, Val loss: 0.2788, Val acc: 91.25%, Best Val loss: 0.2591 Best Val acc: 91.50%\n",
            "Epoch 21/30, Train loss: 0.2550, Train acc: 90.94%, Val loss: 0.2478, Val acc: 92.00%, Best Val loss: 0.2478 Best Val acc: 92.00%\n",
            "Epoch 22/30, Train loss: 0.2500, Train acc: 91.25%, Val loss: 0.2522, Val acc: 91.25%, Best Val loss: 0.2478 Best Val acc: 92.00%\n",
            "Epoch 23/30, Train loss: 0.2500, Train acc: 91.31%, Val loss: 0.2494, Val acc: 91.75%, Best Val loss: 0.2478 Best Val acc: 92.00%\n",
            "Epoch 24/30, Train loss: 0.2492, Train acc: 91.38%, Val loss: 0.2505, Val acc: 91.50%, Best Val loss: 0.2478 Best Val acc: 92.00%\n",
            "Epoch 25/30, Train loss: 0.2491, Train acc: 91.19%, Val loss: 0.2481, Val acc: 92.00%, Best Val loss: 0.2478 Best Val acc: 92.00%\n",
            "Epoch 26/30, Train loss: 0.2486, Train acc: 91.31%, Val loss: 0.2463, Val acc: 92.25%, Best Val loss: 0.2463 Best Val acc: 92.25%\n",
            "Epoch 27/30, Train loss: 0.2486, Train acc: 91.19%, Val loss: 0.2472, Val acc: 92.00%, Best Val loss: 0.2463 Best Val acc: 92.25%\n",
            "Epoch 28/30, Train loss: 0.2484, Train acc: 91.31%, Val loss: 0.2455, Val acc: 92.25%, Best Val loss: 0.2455 Best Val acc: 92.25%\n",
            "Epoch 29/30, Train loss: 0.2481, Train acc: 91.38%, Val loss: 0.2455, Val acc: 92.50%, Best Val loss: 0.2455 Best Val acc: 92.50%\n",
            "Epoch 30/30, Train loss: 0.2477, Train acc: 91.38%, Val loss: 0.2449, Val acc: 92.25%, Best Val loss: 0.2449 Best Val acc: 92.50%\n"
          ]
        }
      ],
      "source": [
        "import torch.optim as optim\n",
        "from torch.optim.lr_scheduler import CosineAnnealingLR, StepLR\n",
        "from tqdm.auto import tqdm\n",
        "\n",
        "train_losses = []\n",
        "val_losses = []\n",
        "train_accuracies = []\n",
        "val_accuracies = []\n",
        "\n",
        "epochs = 30\n",
        "\n",
        "# Change you model here\n",
        "model = ConvGAP()\n",
        "print(model)\n",
        "model = model.cuda()\n",
        "\n",
        "best_val_loss = float('inf')\n",
        "best_val_acc = -1\n",
        "\n",
        "criterion = nn.BCEWithLogitsLoss()\n",
        "optimizer = optim.Adam(model.parameters(), lr=1e-3)\n",
        "# lr_scheduler = CosineAnnealingLR(optimizer, T_max=len(train_loader)*epochs, eta_min=0)\n",
        "lr_scheduler = StepLR(optimizer, step_size=10, gamma=0.1)\n",
        "\n",
        "for epoch in tqdm(range(epochs)):\n",
        "    # Training\n",
        "    model.train()\n",
        "    total_loss = 0.0\n",
        "    train_correct = 0\n",
        "    total_train_samples = 0\n",
        "\n",
        "    for images, labels in train_loader:\n",
        "        images = images.cuda()\n",
        "        images = images / 255.\n",
        "        labels = labels.cuda()\n",
        "        optimizer.zero_grad()\n",
        "        outputs = model(images)\n",
        "\n",
        "        labels = labels.float().unsqueeze(1)\n",
        "\n",
        "        loss = criterion(outputs, labels)\n",
        "        loss.backward()\n",
        "        optimizer.step()\n",
        "        total_loss += loss.item()\n",
        "\n",
        "        train_predicted = torch.sigmoid(outputs) > 0.5\n",
        "        train_correct += (train_predicted.float() == labels).sum().item()\n",
        "        total_train_samples += labels.size(0)\n",
        "\n",
        "    avg_train_loss = total_loss / len(train_loader)\n",
        "    train_accuracy = 100. * train_correct / total_train_samples\n",
        "\n",
        "    # Validation\n",
        "    model.eval()\n",
        "    total_val_loss = 0.0\n",
        "    correct = 0\n",
        "    total = 0\n",
        "    with torch.no_grad():\n",
        "        for images, labels in val_loader:\n",
        "            images = images.cuda()\n",
        "            images = images / 255.\n",
        "            labels = labels.cuda()\n",
        "            outputs = model(images)\n",
        "\n",
        "            labels = labels.float().unsqueeze(1)\n",
        "\n",
        "            loss = criterion(outputs, labels)\n",
        "            total_val_loss += loss.item()\n",
        "\n",
        "            predicted = torch.sigmoid(outputs) > 0.5\n",
        "            correct += (predicted.float() == labels).sum().item()\n",
        "            total += labels.size(0)\n",
        "\n",
        "    avg_val_loss = total_val_loss / len(val_loader)\n",
        "    val_accuracy = 100. * correct / total\n",
        "\n",
        "    # Learning rate update\n",
        "    lr_scheduler.step()\n",
        "\n",
        "    # Checkpoint\n",
        "    if avg_val_loss < best_val_loss:\n",
        "        best_val_loss = avg_val_loss\n",
        "        torch.save(model.state_dict(), 'model_classification.pth')\n",
        "\n",
        "    if val_accuracy > best_val_acc:\n",
        "        best_val_acc = val_accuracy\n",
        "\n",
        "    print(f'Epoch {epoch+1}/{epochs}, Train loss: {avg_train_loss:.4f}, Train acc: {train_accuracy:.2f}%, Val loss: {avg_val_loss:.4f}, Val acc: {val_accuracy:.2f}%, Best Val loss: {best_val_loss:.4f} Best Val acc: {best_val_acc:.2f}%')\n",
        "\n",
        "    # Store performance\n",
        "    train_losses.append(avg_train_loss)\n",
        "    train_accuracies.append(train_accuracy)\n",
        "    val_losses.append(avg_val_loss)\n",
        "    val_accuracies.append(val_accuracy)"
      ]
    },
    {
      "cell_type": "markdown",
      "metadata": {
        "id": "pjmYxAJnxc6t"
      },
      "source": [
        "### Visualizing model performance"
      ]
    },
    {
      "cell_type": "code",
      "execution_count": 16,
      "metadata": {
        "id": "pHpS0Q7vxc6t",
        "colab": {
          "base_uri": "https://localhost:8080/",
          "height": 487
        },
        "outputId": "0614dfe6-f139-4ce7-f760-2970ec11a2c6"
      },
      "outputs": [
        {
          "output_type": "display_data",
          "data": {
            "text/plain": [
              "<Figure size 1500x500 with 2 Axes>"
            ],
            "image/png": "[encoded data removed]"
          },
          "metadata": {}
        }
      ],
      "source": [
        "import matplotlib.pyplot as plt\n",
        "\n",
        "fig, ax = plt.subplots(1, 2, figsize=(15, 5))\n",
        "\n",
        "# Plotting training and validation accuracy\n",
        "ax[0].plot(train_accuracies)\n",
        "ax[0].plot(val_accuracies)\n",
        "ax[0].set_title('Model Accuracy')\n",
        "ax[0].set_xlabel('Epochs')\n",
        "ax[0].set_ylabel('Accuracy')\n",
        "ax[0].legend(['Train', 'Val'])\n",
        "\n",
        "# Plotting training and validation loss\n",
        "ax[1].plot(train_losses)\n",
        "ax[1].plot(val_losses)\n",
        "ax[1].set_title('Model Loss')\n",
        "ax[1].set_xlabel('Epochs')\n",
        "ax[1].set_ylabel('Loss')\n",
        "ax[1].legend(['Train', 'Val'])\n",
        "\n",
        "plt.show()"
      ]
    },
    {
      "cell_type": "markdown",
      "metadata": {
        "id": "N2cTIaGTuMeL"
      },
      "source": [
        "## D. Evaluating Your Trained Model"
      ]
    },
    {
      "cell_type": "code",
      "execution_count": 11,
      "metadata": {
        "colab": {
          "base_uri": "https://localhost:8080/"
        },
        "id": "ydml8QkkuMeL",
        "outputId": "30cc9cff-a8eb-4d53-f3b2-c8ada558af4f"
      },
      "outputs": [
        {
          "output_type": "stream",
          "name": "stdout",
          "text": [
            "--2023-11-01 16:49:26--  https://raw.githubusercontent.com/TacoXDD/homeworks/master/dataset/test/test_normal.npy\n",
            "Resolving raw.githubusercontent.com (raw.githubusercontent.com)... 185.199.108.133, 185.199.109.133, 185.199.110.133, ...\n",
            "Connecting to raw.githubusercontent.com (raw.githubusercontent.com)|185.199.108.133|:443... connected.\n",
            "HTTP request sent, awaiting response... 200 OK\n",
            "Length: 13107328 (12M) [application/octet-stream]\n",
            "Saving to: ‘test_normal.npy’\n",
            "\n",
            "test_normal.npy     100%[===================>]  12.50M  --.-KB/s    in 0.06s   \n",
            "\n",
            "2023-11-01 16:49:28 (226 MB/s) - ‘test_normal.npy’ saved [13107328/13107328]\n",
            "\n",
            "--2023-11-01 16:49:28--  https://raw.githubusercontent.com/TacoXDD/homeworks/master/dataset/test/test_pneumonia.npy\n",
            "Resolving raw.githubusercontent.com (raw.githubusercontent.com)... 185.199.108.133, 185.199.109.133, 185.199.110.133, ...\n",
            "Connecting to raw.githubusercontent.com (raw.githubusercontent.com)|185.199.108.133|:443... connected.\n",
            "HTTP request sent, awaiting response... 200 OK\n",
            "Length: 13107328 (12M) [application/octet-stream]\n",
            "Saving to: ‘test_pneumonia.npy’\n",
            "\n",
            "test_pneumonia.npy  100%[===================>]  12.50M  --.-KB/s    in 0.04s   \n",
            "\n",
            "2023-11-01 16:49:29 (344 MB/s) - ‘test_pneumonia.npy’ saved [13107328/13107328]\n",
            "\n"
          ]
        }
      ],
      "source": [
        "!wget https://raw.githubusercontent.com/TacoXDD/homeworks/master/dataset/test/test_normal.npy\n",
        "!wget https://raw.githubusercontent.com/TacoXDD/homeworks/master/dataset/test/test_pneumonia.npy"
      ]
    },
    {
      "cell_type": "markdown",
      "metadata": {
        "id": "dFWG4LVGuMeL"
      },
      "source": [
        "### Process Test Dataset"
      ]
    },
    {
      "cell_type": "code",
      "execution_count": 17,
      "metadata": {
        "colab": {
          "base_uri": "https://localhost:8080/"
        },
        "id": "I4PWf5MhuMeL",
        "outputId": "461e0c4a-9687-4dee-d875-3366d37f5a10"
      },
      "outputs": [
        {
          "output_type": "stream",
          "name": "stdout",
          "text": [
            "Shape of test_abnormal: (200, 256, 256)\n",
            "Shape of test_normal: (200, 256, 256)\n",
            "Shape of x_test: (400, 256, 256)\n",
            "Shape of y_test: (400,)\n"
          ]
        }
      ],
      "source": [
        "test_abnormal = np.load('test_pneumonia.npy')\n",
        "test_normal = np.load('test_normal.npy')\n",
        "\n",
        "print(f'Shape of test_abnormal: {test_abnormal.shape}')\n",
        "print(f'Shape of test_normal: {test_normal.shape}')\n",
        "\n",
        "# For the data having presence of pneumonia assign 1, for the normal ones assign 0.\n",
        "test_abnormal_labels = np.ones((test_abnormal.shape[0],))\n",
        "test_normal_labels = np.zeros((test_normal.shape[0],))\n",
        "\n",
        "x_test = np.concatenate((test_abnormal, test_normal), axis=0)\n",
        "y_test = np.concatenate((test_abnormal_labels, test_normal_labels), axis=0)\n",
        "\n",
        "print(f'Shape of x_test: {x_test.shape}')\n",
        "print(f'Shape of y_test: {y_test.shape}')\n",
        "\n",
        "\n",
        "# Convert to PyTorch tensors\n",
        "x_test = torch.from_numpy(x_test).float().unsqueeze(1)\n",
        "y_test = torch.from_numpy(y_test).long()\n",
        "\n",
        "# Combine the images and labels into a dataset\n",
        "test_dataset = TensorDataset(x_test, y_test)\n",
        "\n",
        "# Create a dataloader to load data in batches. Set batch size to 32.\n",
        "test_loader = DataLoader(test_dataset, 32, shuffle=False)"
      ]
    },
    {
      "cell_type": "markdown",
      "metadata": {
        "id": "6U-QeltQuMeL"
      },
      "source": [
        "### Load Trained Model and Evaluate"
      ]
    },
    {
      "cell_type": "code",
      "execution_count": 18,
      "metadata": {
        "colab": {
          "base_uri": "https://localhost:8080/"
        },
        "id": "j2FSOCAPuMeL",
        "outputId": "7a08baeb-670d-4708-a0c5-506b3b48c9b4"
      },
      "outputs": [
        {
          "output_type": "stream",
          "name": "stdout",
          "text": [
            "Test accuracy is 80.75%\n"
          ]
        }
      ],
      "source": [
        "# Load the trained weights\n",
        "model.load_state_dict(torch.load('model_classification.pth'))\n",
        "\n",
        "# Set the model to evaluation mode\n",
        "model.eval()\n",
        "\n",
        "test_correct = 0\n",
        "test_total = 0\n",
        "\n",
        "with torch.no_grad():\n",
        "    for images, labels in test_loader:\n",
        "\n",
        "        images = images.cuda()\n",
        "        images = images / 255.\n",
        "\n",
        "        labels = labels.cuda()\n",
        "\n",
        "        outputs = model(images)\n",
        "\n",
        "        labels_float = labels.float().unsqueeze(1)  # Convert labels to float and match shape with outputs\n",
        "        predicted = torch.sigmoid(outputs) > 0.5\n",
        "\n",
        "        test_correct += (predicted.float() == labels_float).sum().item()\n",
        "        test_total += labels.size(0)\n",
        "\n",
        "print(f'Test accuracy is {100. * test_correct / test_total}%')"
      ]
    },
    {
      "cell_type": "code",
      "execution_count": null,
      "metadata": {
        "id": "ILspyMFuuMeL"
      },
      "outputs": [],
      "source": []
    }
  ],
  "metadata": {
    "accelerator": "GPU",
    "colab": {
      "gpuType": "T4",
      "provenance": [],
      "include_colab_link": true
    },
    "kernelspec": {
      "display_name": "Python 3",
      "name": "python3"
    },
    "language_info": {
      "codemirror_mode": {
        "name": "ipython",
        "version": 3
      },
      "file_extension": ".py",
      "mimetype": "text/x-python",
      "name": "python",
      "nbconvert_exporter": "python",
      "pygments_lexer": "ipython3",
      "version": "3.8.13"
    },
    "widgets": {
      "application/vnd.jupyter.widget-state+json": {
        "f505f409cca740ed88542d6378429641": {
          "model_module": "@jupyter-widgets/controls",
          "model_name": "HBoxModel",
          "model_module_version": "1.5.0",
          "state": {
            "_dom_classes": [],
            "_model_module": "@jupyter-widgets/controls",
            "_model_module_version": "1.5.0",
            "_model_name": "HBoxModel",
            "_view_count": null,
            "_view_module": "@jupyter-widgets/controls",
            "_view_module_version": "1.5.0",
            "_view_name": "HBoxView",
            "box_style": "",
            "children": [
              "IPY_MODEL_d9e702b16e1948688431dbc144055506",
              "IPY_MODEL_0ddb3a2e9856499e998198d7bc283afd",
              "IPY_MODEL_7465c1d432ef4d58baae228df50739b3"
            ],
            "layout": "IPY_MODEL_2bc62f9594204a178c7504e3eac8ee9b"
          }
        },
        "d9e702b16e1948688431dbc144055506": {
          "model_module": "@jupyter-widgets/controls",
          "model_name": "HTMLModel",
          "model_module_version": "1.5.0",
          "state": {
            "_dom_classes": [],
            "_model_module": "@jupyter-widgets/controls",
            "_model_module_version": "1.5.0",
            "_model_name": "HTMLModel",
            "_view_count": null,
            "_view_module": "@jupyter-widgets/controls",
            "_view_module_version": "1.5.0",
            "_view_name": "HTMLView",
            "description": "",
            "description_tooltip": null,
            "layout": "IPY_MODEL_ae18faa80d0f4bfda6df4c7889902e97",
            "placeholder": "​",
            "style": "IPY_MODEL_8243ba25713f49ccbe722b167b01dce7",
            "value": "100%"
          }
        },
        "0ddb3a2e9856499e998198d7bc283afd": {
          "model_module": "@jupyter-widgets/controls",
          "model_name": "FloatProgressModel",
          "model_module_version": "1.5.0",
          "state": {
            "_dom_classes": [],
            "_model_module": "@jupyter-widgets/controls",
            "_model_module_version": "1.5.0",
            "_model_name": "FloatProgressModel",
            "_view_count": null,
            "_view_module": "@jupyter-widgets/controls",
            "_view_module_version": "1.5.0",
            "_view_name": "ProgressView",
            "bar_style": "success",
            "description": "",
            "description_tooltip": null,
            "layout": "IPY_MODEL_cc6eba53047b4ffd9190826915a18d42",
            "max": 30,
            "min": 0,
            "orientation": "horizontal",
            "style": "IPY_MODEL_17f2c720cfab440398687b9c10cd8fea",
            "value": 30
          }
        },
        "7465c1d432ef4d58baae228df50739b3": {
          "model_module": "@jupyter-widgets/controls",
          "model_name": "HTMLModel",
          "model_module_version": "1.5.0",
          "state": {
            "_dom_classes": [],
            "_model_module": "@jupyter-widgets/controls",
            "_model_module_version": "1.5.0",
            "_model_name": "HTMLModel",
            "_view_count": null,
            "_view_module": "@jupyter-widgets/controls",
            "_view_module_version": "1.5.0",
            "_view_name": "HTMLView",
            "description": "",
            "description_tooltip": null,
            "layout": "IPY_MODEL_ca225ecf21fd4fd28a2ecc0a266c7f17",
            "placeholder": "​",
            "style": "IPY_MODEL_a63f9da908224aaa9368e2b14034bf3d",
            "value": " 30/30 [01:12&lt;00:00,  2.44s/it]"
          }
        },
        "2bc62f9594204a178c7504e3eac8ee9b": {
          "model_module": "@jupyter-widgets/base",
          "model_name": "LayoutModel",
          "model_module_version": "1.2.0",
          "state": {
            "_model_module": "@jupyter-widgets/base",
            "_model_module_version": "1.2.0",
            "_model_name": "LayoutModel",
            "_view_count": null,
            "_view_module": "@jupyter-widgets/base",
            "_view_module_version": "1.2.0",
            "_view_name": "LayoutView",
            "align_content": null,
            "align_items": null,
            "align_self": null,
            "border": null,
            "bottom": null,
            "display": null,
            "flex": null,
            "flex_flow": null,
            "grid_area": null,
            "grid_auto_columns": null,
            "grid_auto_flow": null,
            "grid_auto_rows": null,
            "grid_column": null,
            "grid_gap": null,
            "grid_row": null,
            "grid_template_areas": null,
            "grid_template_columns": null,
            "grid_template_rows": null,
            "height": null,
            "justify_content": null,
            "justify_items": null,
            "left": null,
            "margin": null,
            "max_height": null,
            "max_width": null,
            "min_height": null,
            "min_width": null,
            "object_fit": null,
            "object_position": null,
            "order": null,
            "overflow": null,
            "overflow_x": null,
            "overflow_y": null,
            "padding": null,
            "right": null,
            "top": null,
            "visibility": null,
            "width": null
          }
        },
        "ae18faa80d0f4bfda6df4c7889902e97": {
          "model_module": "@jupyter-widgets/base",
          "model_name": "LayoutModel",
          "model_module_version": "1.2.0",
          "state": {
            "_model_module": "@jupyter-widgets/base",
            "_model_module_version": "1.2.0",
            "_model_name": "LayoutModel",
            "_view_count": null,
            "_view_module": "@jupyter-widgets/base",
            "_view_module_version": "1.2.0",
            "_view_name": "LayoutView",
            "align_content": null,
            "align_items": null,
            "align_self": null,
            "border": null,
            "bottom": null,
            "display": null,
            "flex": null,
            "flex_flow": null,
            "grid_area": null,
            "grid_auto_columns": null,
            "grid_auto_flow": null,
            "grid_auto_rows": null,
            "grid_column": null,
            "grid_gap": null,
            "grid_row": null,
            "grid_template_areas": null,
            "grid_template_columns": null,
            "grid_template_rows": null,
            "height": null,
            "justify_content": null,
            "justify_items": null,
            "left": null,
            "margin": null,
            "max_height": null,
            "max_width": null,
            "min_height": null,
            "min_width": null,
            "object_fit": null,
            "object_position": null,
            "order": null,
            "overflow": null,
            "overflow_x": null,
            "overflow_y": null,
            "padding": null,
            "right": null,
            "top": null,
            "visibility": null,
            "width": null
          }
        },
        "8243ba25713f49ccbe722b167b01dce7": {
          "model_module": "@jupyter-widgets/controls",
          "model_name": "DescriptionStyleModel",
          "model_module_version": "1.5.0",
          "state": {
            "_model_module": "@jupyter-widgets/controls",
            "_model_module_version": "1.5.0",
            "_model_name": "DescriptionStyleModel",
            "_view_count": null,
            "_view_module": "@jupyter-widgets/base",
            "_view_module_version": "1.2.0",
            "_view_name": "StyleView",
            "description_width": ""
          }
        },
        "cc6eba53047b4ffd9190826915a18d42": {
          "model_module": "@jupyter-widgets/base",
          "model_name": "LayoutModel",
          "model_module_version": "1.2.0",
          "state": {
            "_model_module": "@jupyter-widgets/base",
            "_model_module_version": "1.2.0",
            "_model_name": "LayoutModel",
            "_view_count": null,
            "_view_module": "@jupyter-widgets/base",
            "_view_module_version": "1.2.0",
            "_view_name": "LayoutView",
            "align_content": null,
            "align_items": null,
            "align_self": null,
            "border": null,
            "bottom": null,
            "display": null,
            "flex": null,
            "flex_flow": null,
            "grid_area": null,
            "grid_auto_columns": null,
            "grid_auto_flow": null,
            "grid_auto_rows": null,
            "grid_column": null,
            "grid_gap": null,
            "grid_row": null,
            "grid_template_areas": null,
            "grid_template_columns": null,
            "grid_template_rows": null,
            "height": null,
            "justify_content": null,
            "justify_items": null,
            "left": null,
            "margin": null,
            "max_height": null,
            "max_width": null,
            "min_height": null,
            "min_width": null,
            "object_fit": null,
            "object_position": null,
            "order": null,
            "overflow": null,
            "overflow_x": null,
            "overflow_y": null,
            "padding": null,
            "right": null,
            "top": null,
            "visibility": null,
            "width": null
          }
        },
        "17f2c720cfab440398687b9c10cd8fea": {
          "model_module": "@jupyter-widgets/controls",
          "model_name": "ProgressStyleModel",
          "model_module_version": "1.5.0",
          "state": {
            "_model_module": "@jupyter-widgets/controls",
            "_model_module_version": "1.5.0",
            "_model_name": "ProgressStyleModel",
            "_view_count": null,
            "_view_module": "@jupyter-widgets/base",
            "_view_module_version": "1.2.0",
            "_view_name": "StyleView",
            "bar_color": null,
            "description_width": ""
          }
        },
        "ca225ecf21fd4fd28a2ecc0a266c7f17": {
          "model_module": "@jupyter-widgets/base",
          "model_name": "LayoutModel",
          "model_module_version": "1.2.0",
          "state": {
            "_model_module": "@jupyter-widgets/base",
            "_model_module_version": "1.2.0",
            "_model_name": "LayoutModel",
            "_view_count": null,
            "_view_module": "@jupyter-widgets/base",
            "_view_module_version": "1.2.0",
            "_view_name": "LayoutView",
            "align_content": null,
            "align_items": null,
            "align_self": null,
            "border": null,
            "bottom": null,
            "display": null,
            "flex": null,
            "flex_flow": null,
            "grid_area": null,
            "grid_auto_columns": null,
            "grid_auto_flow": null,
            "grid_auto_rows": null,
            "grid_column": null,
            "grid_gap": null,
            "grid_row": null,
            "grid_template_areas": null,
            "grid_template_columns": null,
            "grid_template_rows": null,
            "height": null,
            "justify_content": null,
            "justify_items": null,
            "left": null,
            "margin": null,
            "max_height": null,
            "max_width": null,
            "min_height": null,
            "min_width": null,
            "object_fit": null,
            "object_position": null,
            "order": null,
            "overflow": null,
            "overflow_x": null,
            "overflow_y": null,
            "padding": null,
            "right": null,
            "top": null,
            "visibility": null,
            "width": null
          }
        },
        "a63f9da908224aaa9368e2b14034bf3d": {
          "model_module": "@jupyter-widgets/controls",
          "model_name": "DescriptionStyleModel",
          "model_module_version": "1.5.0",
          "state": {
            "_model_module": "@jupyter-widgets/controls",
            "_model_module_version": "1.5.0",
            "_model_name": "DescriptionStyleModel",
            "_view_count": null,
            "_view_module": "@jupyter-widgets/base",
            "_view_module_version": "1.2.0",
            "_view_name": "StyleView",
            "description_width": ""
          }
        }
      }
    }
  },
  "nbformat": 4,
  "nbformat_minor": 0
}